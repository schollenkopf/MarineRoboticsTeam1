{
 "cells": [
  {
   "cell_type": "markdown",
   "metadata": {},
   "source": [
    "# Search-based Path Planning"
   ]
  },
  {
   "cell_type": "code",
   "execution_count": null,
   "metadata": {},
   "outputs": [],
   "source": [
    "from Sampling_based_Planning.rrt_2D.rrt import Rrt\n",
    "from Sampling_based_Planning.rrt_2D.rrt_star import RrtStar\n",
    "from Sampling_based_Planning.rrt_2D import plotting, env\n",
    "import time"
   ]
  },
  {
   "cell_type": "markdown",
   "metadata": {},
   "source": [
    "Define the start and goal:"
   ]
  },
  {
   "cell_type": "code",
   "execution_count": null,
   "metadata": {},
   "outputs": [],
   "source": [
    "x_start = (2, 2)  # Starting node\n",
    "x_goal = (49, 24)  # Goal node"
   ]
  },
  {
   "cell_type": "markdown",
   "metadata": {},
   "source": [
    "Define the objects of path planning search-based methods"
   ]
  },
  {
   "cell_type": "code",
   "execution_count": null,
   "metadata": {},
   "outputs": [],
   "source": [
    "rrt = Rrt(x_start, x_goal, 0.5, 0.05, 10000)\n",
    "rrt_star = RrtStar(x_start, x_goal, step_len=10, goal_sample_rate=0.1, search_radius=20, iter_max=10000)"
   ]
  },
  {
   "cell_type": "markdown",
   "metadata": {},
   "source": [
    "Run RRT"
   ]
  },
  {
   "cell_type": "code",
   "execution_count": null,
   "metadata": {},
   "outputs": [],
   "source": [
    "ts = time.time()\n",
    "path_rrt = rrt.planning()\n",
    "tf = time.time()\n",
    "T_rrt = tf-ts\n",
    "total_distance_rrt = rrt.plotting.get_distance_path(path_rrt)\n",
    "print(f\"Computation time: {T_rrt} secs\")\n",
    "print(f\"Total distance: {total_distance_rrt} m\")\n",
    "rrt.plotting.plot_grid(\"RRT\")\n",
    "rrt.plotting.plot_visited(rrt.vertex, False)\n",
    "rrt.plotting.plot_path(path_rrt)"
   ]
  },
  {
   "cell_type": "markdown",
   "metadata": {},
   "source": [
    "Run RRT*"
   ]
  },
  {
   "cell_type": "code",
   "execution_count": null,
   "metadata": {},
   "outputs": [],
   "source": [
    "ts = time.time()\n",
    "rrt_star.planning()\n",
    "tf = time.time()\n",
    "T_rrt_star = tf-ts\n",
    "total_distance_rrt_star = rrt_star.plotting.get_distance_path(rrt_star.path)\n",
    "print(f\"Computation time: {T_rrt_star} secs\")\n",
    "print(f\"Total distance: {total_distance_rrt_star} m\")\n",
    "rrt_star.plotting.plot_grid(\"RRT*\")\n",
    "rrt_star.plotting.plot_visited(rrt_star.vertex, False)\n",
    "rrt_star.plotting.plot_path(rrt_star.path)"
   ]
  },
  {
   "cell_type": "markdown",
   "metadata": {},
   "source": [
    "Result and Analysis"
   ]
  },
  {
   "cell_type": "code",
   "execution_count": null,
   "metadata": {},
   "outputs": [],
   "source": [
    "def plot_metrics(list_time_duration, list_path_length, parameter_name):\n",
    "    import matplotlib.pyplot as plt \n",
    "    # Convert data to list of lists\n",
    "    values = list(list_time_duration.values())\n",
    "    # Create boxplot\n",
    "    plt.boxplot(values, labels=list_time_duration.keys())\n",
    "    plt.xlabel(parameter_name)\n",
    "    plt.ylabel('Time (secs)')\n",
    "    plt.show()\n",
    "\n",
    "    values = list(list_path_length.values())\n",
    "    # Create boxplot\n",
    "    plt.boxplot(values, labels=list_path_length.keys())\n",
    "    plt.xlabel(parameter_name)\n",
    "    plt.ylabel('Length (m)')\n",
    "    plt.show()\n"
   ]
  },
  {
   "cell_type": "markdown",
   "metadata": {},
   "source": [
    "Step Length"
   ]
  },
  {
   "cell_type": "code",
   "execution_count": null,
   "metadata": {},
   "outputs": [],
   "source": [
    "list_step_len = [5,10]\n",
    "list_time_duration = {}\n",
    "list_path_length = {}\n",
    "N_experiment = 5\n",
    "for step_len in list_step_len:\n",
    "    list_time_duration[step_len] = []\n",
    "    list_path_length[step_len] = []\n",
    "    for i in range(N_experiment):\n",
    "        rrt_star = RrtStar(x_start, x_goal, step_len=step_len, goal_sample_rate=0.1, search_radius=20, iter_max=8000)\n",
    "        ts = time.time()\n",
    "        rrt_star.planning()\n",
    "        tf = time.time()\n",
    "        T_rrt_star = tf-ts\n",
    "        total_distance_rrt_star = rrt_star.plotting.get_distance_path(rrt_star.path)\n",
    "        print(\"============================\")\n",
    "        print(f\"Experiment-{i} Step Length: {step_len}\")\n",
    "        print(f\"Computation time: {T_rrt_star} secs\")\n",
    "        print(f\"Total distance: {total_distance_rrt_star} m\")\n",
    "        list_time_duration[step_len].append(T_rrt_star)\n",
    "        list_path_length[step_len].append(total_distance_rrt_star)"
   ]
  },
  {
   "cell_type": "code",
   "execution_count": null,
   "metadata": {},
   "outputs": [],
   "source": [
    "plot_metrics(list_time_duration, list_path_length, \"Step Length\")"
   ]
  },
  {
   "cell_type": "markdown",
   "metadata": {},
   "source": [
    "Goal Sample Rate Analysis"
   ]
  },
  {
   "cell_type": "code",
   "execution_count": null,
   "metadata": {},
   "outputs": [],
   "source": [
    "list_goal_sample_rate = [0.1,0.3]\n",
    "# ADD YOUR CODE HERE\n",
    "list_time_duration = {}\n",
    "list_path_length = {}\n",
    "N_experiment = 2\n",
    "for goal_sample_rate in list_goal_sample_rate:\n",
    "    list_time_duration[goal_sample_rate] = []\n",
    "    list_path_length[goal_sample_rate] = []\n",
    "    for i in range(N_experiment):\n",
    "        rrt_star = RrtStar(x_start, x_goal, step_len=10, goal_sample_rate=goal_sample_rate, search_radius=20, iter_max=8000)\n",
    "        ts = time.time()\n",
    "        rrt_star.planning()\n",
    "        tf = time.time()\n",
    "        T_rrt_star = tf-ts\n",
    "        total_distance_rrt_star = rrt_star.plotting.get_distance_path(rrt_star.path)\n",
    "        print(\"============================\")\n",
    "        print(f\"Experiment-{i} Goal Sample Rate: {goal_sample_rate}\")\n",
    "        print(f\"Computation time: {T_rrt_star} secs\")\n",
    "        print(f\"Total distance: {total_distance_rrt_star} m\")\n",
    "        list_time_duration[goal_sample_rate].append(T_rrt_star)\n",
    "        list_path_length[goal_sample_rate].append(total_distance_rrt_star)"
   ]
  },
  {
   "cell_type": "code",
   "execution_count": null,
   "metadata": {},
   "outputs": [],
   "source": [
    "plot_metrics(list_time_duration, list_path_length, \"Goal Sample Rate\")"
   ]
  },
  {
   "cell_type": "markdown",
   "metadata": {},
   "source": [
    "Search Radius Analysis"
   ]
  },
  {
   "cell_type": "code",
   "execution_count": null,
   "metadata": {},
   "outputs": [],
   "source": [
    "list_search_radius = [10,20]\n",
    "# ADD YOUR CODE HERE\n",
    "list_time_duration = {}\n",
    "list_path_length = {}\n",
    "N_experiment = 2\n",
    "for search_radius in list_search_radius:\n",
    "    list_time_duration[search_radius] = []\n",
    "    list_path_length[search_radius] = []\n",
    "    for i in range(N_experiment):\n",
    "        rrt_star = RrtStar(x_start, x_goal, step_len=10, goal_sample_rate=0.1, search_radius=search_radius, iter_max=8000)\n",
    "        ts = time.time()\n",
    "        rrt_star.planning()\n",
    "        tf = time.time()\n",
    "        T_rrt_star = tf-ts\n",
    "        total_distance_rrt_star = rrt_star.plotting.get_distance_path(rrt_star.path)\n",
    "        print(\"============================\")\n",
    "        print(f\"Experiment-{i} Search Radius: {search_radius}\")\n",
    "        print(f\"Computation time: {T_rrt_star} secs\")\n",
    "        print(f\"Total distance: {total_distance_rrt_star} m\")\n",
    "        list_time_duration[search_radius].append(T_rrt_star)\n",
    "        list_path_length[search_radius].append(total_distance_rrt_star)"
   ]
  },
  {
   "cell_type": "code",
   "execution_count": null,
   "metadata": {},
   "outputs": [],
   "source": [
    "plot_metrics(list_time_duration, list_path_length, \"Search Radius\")"
   ]
  }
 ],
 "metadata": {
  "kernelspec": {
   "display_name": "base",
   "language": "python",
   "name": "python3"
  },
  "language_info": {
   "codemirror_mode": {
    "name": "ipython",
    "version": 3
   },
   "file_extension": ".py",
   "mimetype": "text/x-python",
   "name": "python",
   "nbconvert_exporter": "python",
   "pygments_lexer": "ipython3",
   "version": "3.11.5"
  }
 },
 "nbformat": 4,
 "nbformat_minor": 2
}
