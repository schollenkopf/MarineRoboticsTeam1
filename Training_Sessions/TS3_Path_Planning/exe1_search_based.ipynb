{
 "cells": [
  {
   "cell_type": "markdown",
   "metadata": {},
   "source": [
    "# Search-based Path Planning"
   ]
  },
  {
   "cell_type": "code",
   "execution_count": null,
   "metadata": {},
   "outputs": [],
   "source": [
    "!pip install matplotlib numpy pyrr==0.10.3 scipy==1.11.1 pymap3d shapely"
   ]
  },
  {
   "cell_type": "code",
   "execution_count": null,
   "metadata": {},
   "outputs": [],
   "source": [
    "from Search_based_Planning.Search_2D.bfs import BFS\n",
    "from Search_based_Planning.Search_2D.Dijkstra import Dijkstra\n",
    "from Search_based_Planning.Search_2D.Bidirectional_a_star import BidirectionalAStar\n",
    "from Search_based_Planning.Search_2D.Astar import AStar\n",
    "from Search_based_Planning.Search_2D import plotting, env\n",
    "import time"
   ]
  },
  {
   "cell_type": "markdown",
   "metadata": {},
   "source": [
    "Define the start and goal:"
   ]
  },
  {
   "cell_type": "code",
   "execution_count": null,
   "metadata": {},
   "outputs": [],
   "source": [
    "s_start = (1, 1)\n",
    "s_goal = (1490, 990)"
   ]
  },
  {
   "cell_type": "markdown",
   "metadata": {},
   "source": [
    "Define the objects of path planning search-based methods"
   ]
  },
  {
   "cell_type": "code",
   "execution_count": null,
   "metadata": {},
   "outputs": [],
   "source": [
    "bfs = BFS(s_start, s_goal, 'None')\n",
    "dijkstra = Dijkstra(s_start, s_goal, 'None')\n",
    "astar_e = AStar(s_start, s_goal, 'euclidean')\n",
    "astar_m = AStar(s_start, s_goal, 'manhattan')\n",
    "bdastar = BidirectionalAStar(s_start, s_goal, 'manhattan')"
   ]
  },
  {
   "cell_type": "markdown",
   "metadata": {},
   "source": [
    "Run Breadth-First Search (BFS)"
   ]
  },
  {
   "cell_type": "code",
   "execution_count": null,
   "metadata": {},
   "outputs": [],
   "source": [
    "ts = time.time()\n",
    "path_bfs, visited_bfs = bfs.searching()\n",
    "tf = time.time()\n",
    "T_bfs = tf-ts\n",
    "plot_bfs = plotting.Plotting(s_start, s_goal)\n",
    "total_distance_bfs = plot_bfs.get_distance_path(path_bfs)\n",
    "print(f\"Computation time: {T_bfs} secs\")\n",
    "print(f\"Total distance: {total_distance_bfs} m\")\n",
    "plot_bfs.plot_grid(\"BFS's\")\n",
    "plot_bfs.plot_path(path_bfs)"
   ]
  },
  {
   "cell_type": "markdown",
   "metadata": {},
   "source": [
    "Run Dijkstra\n",
    "\n",
    "$cost = f(n)$\n",
    "\n",
    "$f(n)$ is the total distance from the starting node to node-$n$"
   ]
  },
  {
   "cell_type": "code",
   "execution_count": null,
   "metadata": {},
   "outputs": [],
   "source": [
    "ts = time.time()\n",
    "path_dijkstra, visited_dijkstra = dijkstra.searching()\n",
    "tf = time.time()\n",
    "T_dijkstra = tf-ts\n",
    "plot_dijkstra = plotting.Plotting(s_start, s_goal)\n",
    "total_distance_dijkstra = plot_dijkstra.get_distance_path(path_dijkstra)\n",
    "print(f\"Computation time: {T_dijkstra} secs\")\n",
    "print(f\"Total distance: {total_distance_dijkstra} m\")\n",
    "plot_dijkstra.plot_grid(\"Dijkstra's\")\n",
    "plot_dijkstra.plot_path(path_dijkstra)"
   ]
  },
  {
   "cell_type": "markdown",
   "metadata": {},
   "source": [
    "Run A* (with Euclidean heuristic)\n",
    "\n",
    "$cost = f(n)+g(n)$\n",
    "\n",
    "$f(n)$ is the total distance from the starting node to node-$n$\n",
    "\n",
    "$g(n)$ is euclidean distance from node-$n$ to end node ($e$)\n",
    "\n",
    "$g(n) = \\sqrt{(n_x-e_x)^2+(n_y-e_y)^2}$"
   ]
  },
  {
   "cell_type": "code",
   "execution_count": null,
   "metadata": {},
   "outputs": [],
   "source": [
    "ts = time.time()\n",
    "path_astar_e, visited_astar_e = astar_e.searching()\n",
    "tf = time.time()\n",
    "T_astar_e = tf-ts\n",
    "plot_astar_e = plotting.Plotting(s_start, s_goal)\n",
    "total_distance_astar_e = plot_astar_e.get_distance_path(path_astar_e)\n",
    "print(f\"Computation time: {T_astar_e} secs\")\n",
    "print(f\"Total distance: {total_distance_astar_e} m\")\n",
    "plot_astar_e.plot_grid(\"Astar's Euclidean\")\n",
    "plot_astar_e.plot_path(path_astar_e)"
   ]
  },
  {
   "cell_type": "markdown",
   "metadata": {},
   "source": [
    "Run A* (with Manhattan heuristic)\n",
    "\n",
    "$cost = f(n)+g(n)$\n",
    "\n",
    "$f(n)$ is the total distance from the starting node to node-$n$\n",
    "\n",
    "$g(n)$ is Manhattan distance from node-$n$ to end node ($e$)\n",
    "\n",
    "$g(n) = |n_x-e_x|+ |n_y-e_y|$"
   ]
  },
  {
   "cell_type": "code",
   "execution_count": null,
   "metadata": {},
   "outputs": [],
   "source": [
    "ts = time.time()\n",
    "path_astar_m, visited_astar_m = astar_m.searching()\n",
    "tf = time.time()\n",
    "T_astar_m = tf-ts\n",
    "plot_astar_m = plotting.Plotting(s_start, s_goal)\n",
    "total_distance_astar_m = plot_astar_m.get_distance_path(path_astar_m)\n",
    "print(f\"Computation time: {T_astar_m} secs\")\n",
    "print(f\"Total distance: {total_distance_astar_m} m\")\n",
    "plot_astar_m.plot_grid(\"Astar's Manhattan\")\n",
    "plot_astar_m.plot_path(path_astar_m)"
   ]
  },
  {
   "cell_type": "markdown",
   "metadata": {},
   "source": [
    "Metrics"
   ]
  },
  {
   "cell_type": "code",
   "execution_count": null,
   "metadata": {},
   "outputs": [],
   "source": [
    "import matplotlib.pyplot as plt\n",
    "\n",
    "all_methods = [\"BFS\", \"Dijkstra\", \"A* (E)\", \"A* (M)\"]\n",
    "all_path_length = [total_distance_bfs, total_distance_dijkstra, total_distance_astar_e, total_distance_astar_m]\n",
    "all_duration_time = [T_bfs, T_dijkstra, T_astar_e, T_astar_m]"
   ]
  },
  {
   "cell_type": "code",
   "execution_count": null,
   "metadata": {},
   "outputs": [],
   "source": [
    "plt.bar(all_methods, all_path_length, color='b', alpha=0.5)\n",
    "\n",
    "plt.ylabel('Path Length')\n",
    "\n",
    "plt.title('Comparison of Path Length')\n",
    "plt.show()"
   ]
  },
  {
   "cell_type": "code",
   "execution_count": null,
   "metadata": {},
   "outputs": [],
   "source": [
    "plt.bar(all_methods, all_duration_time, color='r', alpha=0.5)\n",
    "\n",
    "plt.ylabel('Time Computation')\n",
    "\n",
    "plt.title('Comparison of Time Computation')\n",
    "plt.show()"
   ]
  },
  {
   "cell_type": "markdown",
   "metadata": {},
   "source": [
    "## Discuss the result!"
   ]
  },
  {
   "cell_type": "code",
   "execution_count": null,
   "metadata": {},
   "outputs": [],
   "source": [
    "visited_cell = [len(visited_bfs), len(visited_dijkstra), len(visited_astar_e), len(visited_astar_m)]\n",
    "plt.bar(all_methods, visited_cell, color='r', alpha=0.5)\n",
    "plt.ylabel('Number of Cell')\n",
    "\n",
    "plt.title('Comparison of Number of Cell Visited')\n",
    "plt.show()"
   ]
  },
  {
   "cell_type": "markdown",
   "metadata": {},
   "source": [
    "Plot visited cells"
   ]
  },
  {
   "cell_type": "code",
   "execution_count": null,
   "metadata": {},
   "outputs": [],
   "source": [
    "import matplotlib.pyplot as plt\n",
    "import numpy as np"
   ]
  },
  {
   "cell_type": "code",
   "execution_count": null,
   "metadata": {},
   "outputs": [],
   "source": [
    "plot_bfs.plot_grid(\"BFS\")\n",
    "visited_bfs = np.array(visited_bfs)\n",
    "X = visited_bfs[:,0]\n",
    "Y = visited_bfs[:,1]\n",
    "plt.scatter(X,Y)"
   ]
  },
  {
   "cell_type": "code",
   "execution_count": null,
   "metadata": {},
   "outputs": [],
   "source": [
    "plot_dijkstra.plot_grid(\"Dijkstra\")\n",
    "visited_dijkstra = np.array(visited_dijkstra)\n",
    "X = visited_dijkstra[:,0]\n",
    "Y = visited_dijkstra[:,1]\n",
    "plt.scatter(X,Y)"
   ]
  },
  {
   "cell_type": "code",
   "execution_count": null,
   "metadata": {},
   "outputs": [],
   "source": [
    "plot_astar_e.plot_grid(\"A* Euclidean\")\n",
    "visited_astar_e = np.array(visited_astar_e)\n",
    "X = visited_astar_e[:,0]\n",
    "Y = visited_astar_e[:,1]\n",
    "plt.scatter(X,Y)"
   ]
  },
  {
   "cell_type": "code",
   "execution_count": null,
   "metadata": {},
   "outputs": [],
   "source": [
    "plot_astar_m.plot_grid(\"A* Manhattan\")\n",
    "visited_astar_m = np.array(visited_astar_m)\n",
    "X = visited_astar_m[:,0]\n",
    "Y = visited_astar_m[:,1]\n",
    "plt.scatter(X,Y)"
   ]
  }
 ],
 "metadata": {
  "kernelspec": {
   "display_name": "Python 3 (ipykernel)",
   "language": "python",
   "name": "python3"
  },
  "language_info": {
   "codemirror_mode": {
    "name": "ipython",
    "version": 3
   },
   "file_extension": ".py",
   "mimetype": "text/x-python",
   "name": "python",
   "nbconvert_exporter": "python",
   "pygments_lexer": "ipython3",
   "version": "3.11.5"
  }
 },
 "nbformat": 4,
 "nbformat_minor": 4
}
