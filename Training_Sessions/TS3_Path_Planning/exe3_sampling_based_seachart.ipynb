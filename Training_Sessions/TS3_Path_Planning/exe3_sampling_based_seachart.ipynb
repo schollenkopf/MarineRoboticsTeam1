{
 "cells": [
  {
   "cell_type": "markdown",
   "metadata": {},
   "source": [
    "# Implementation of RRT and RRT* in Real Case\n",
    "\n",
    "## The obstacles used is obtained from the Seachart of Svendborg, Denmark"
   ]
  },
  {
   "cell_type": "code",
   "execution_count": null,
   "metadata": {},
   "outputs": [],
   "source": [
    "!pip install pymap3d shapely"
   ]
  },
  {
   "cell_type": "code",
   "execution_count": null,
   "metadata": {},
   "outputs": [],
   "source": [
    "from Sampling_based_Planning.rrt_2D_enc.rrt import Rrt\n",
    "from Sampling_based_Planning.rrt_2D_enc.rrt_star import RrtStar\n",
    "import time"
   ]
  },
  {
   "cell_type": "code",
   "execution_count": null,
   "metadata": {},
   "outputs": [],
   "source": [
    "s_start = (100,100)\n",
    "s_goal = (15000,8000)"
   ]
  },
  {
   "cell_type": "code",
   "execution_count": null,
   "metadata": {},
   "outputs": [],
   "source": [
    "rrt = Rrt(s_start, s_goal, 100, 0.05, 10000)"
   ]
  },
  {
   "cell_type": "code",
   "execution_count": null,
   "metadata": {},
   "outputs": [],
   "source": [
    "ts = time.time()\n",
    "path_rrt = rrt.planning()\n",
    "tf = time.time()\n",
    "T_rrt = tf-ts\n",
    "total_distance_rrt = rrt.plotting.get_distance_path(path_rrt)\n",
    "print(f\"Computation time: {T_rrt} secs\")\n",
    "print(f\"Total distance: {total_distance_rrt} m\")\n",
    "rrt.plotting.plot_polygons()\n",
    "rrt.plotting.plot_visited(rrt.vertex, False)\n",
    "rrt.plotting.plot_path(path_rrt)"
   ]
  },
  {
   "cell_type": "markdown",
   "metadata": {},
   "source": [
    "## Implement RRT* and compare the result!"
   ]
  },
  {
   "cell_type": "code",
   "execution_count": null,
   "metadata": {},
   "outputs": [],
   "source": [
    "# ADD YOUR CODE HERE\n",
    "# rrt_star = RrtStar(s_start, s_goal, ..., ..., ..., ...)"
   ]
  },
  {
   "cell_type": "code",
   "execution_count": null,
   "metadata": {},
   "outputs": [],
   "source": [
    "# ADD YOUR CODE HERE"
   ]
  }
 ],
 "metadata": {
  "kernelspec": {
   "display_name": "base",
   "language": "python",
   "name": "python3"
  },
  "language_info": {
   "codemirror_mode": {
    "name": "ipython",
    "version": 3
   },
   "file_extension": ".py",
   "mimetype": "text/x-python",
   "name": "python",
   "nbconvert_exporter": "python",
   "pygments_lexer": "ipython3",
   "version": "3.11.5"
  }
 },
 "nbformat": 4,
 "nbformat_minor": 2
}
